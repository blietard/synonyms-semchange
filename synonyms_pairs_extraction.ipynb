{
 "cells": [
  {
   "cell_type": "code",
   "execution_count": 10,
   "metadata": {},
   "outputs": [],
   "source": [
    "with open('fernald.txt','r') as f:\n",
    "    text = f.read()\n",
    "lines = text.split('\\n')"
   ]
  },
  {
   "cell_type": "code",
   "execution_count": 32,
   "metadata": {},
   "outputs": [],
   "source": [
    "def extract_next_entry(lines,start,end):\n",
    "    '''\n",
    "    Search entry in the list of lines `lines` between indices `start` and `end` (included).\n",
    "    Return the line number at the end of the entry, and the entry itself.\n",
    "    '''\n",
    "    searching_entry = True\n",
    "    current_nline = start\n",
    "    # Searching the first entry\n",
    "    while searching_entry and current_nline<end:\n",
    "        line = lines[current_nline]\n",
    "        if line == '       *       *       *       *       *':\n",
    "            searching_entry = False\n",
    "        current_nline +=1\n",
    "    entry_start = current_nline\n",
    "    # Searching the next entry\n",
    "    searching_next_entry = True\n",
    "    while searching_next_entry and current_nline<end:\n",
    "        line = lines[current_nline]\n",
    "        if line == '       *       *       *       *       *':\n",
    "            searching_next_entry = False\n",
    "        current_nline +=1\n",
    "    entry_end = current_nline-1\n",
    "    return (entry_end,lines[entry_start:entry_end])\n",
    "    "
   ]
  },
  {
   "cell_type": "code",
   "execution_count": 99,
   "metadata": {},
   "outputs": [],
   "source": [
    "def get_synonyms(entry):\n",
    "   '''\n",
    "   Return the list of synonymous pairs found in an entry.\n",
    "   A pair is (ENTRY_HEAD, synonymous word).\n",
    "   `entry` must be a list of text lines.\n",
    "   '''\n",
    "   syns = list()\n",
    "   \n",
    "   headline = entry[1].split(',')\n",
    "\n",
    "   if len(headline) == 1:\n",
    "      head = headline[0][:-1].lower()\n",
    "   elif len(headline) > 1:\n",
    "      head = ''.join( [ head_part.strip() for head_part in headline]).lower()\n",
    "   else:\n",
    "      raise ValueError('No entry head found.')\n",
    "\n",
    "   if ' ' in head:\n",
    "      print(entry[1])\n",
    "      raise ValueError('Entry head is not a single word.')\n",
    "\n",
    "   syn_list_start = 0\n",
    "   while entry[syn_list_start]!='Synonyms:' and entry[syn_list_start]!='Synonym:':\n",
    "      syn_list_start +=1\n",
    "   syn_list_start += 2 #Skip 'Synonyms:' and following empty line.\n",
    "   syn_list_end = syn_list_start\n",
    "   while entry[syn_list_end]: #Search next empty line\n",
    "      syn_list_end +=1\n",
    "   synonyms_list = entry[syn_list_start:syn_list_end]\n",
    "\n",
    "   for line in synonyms_list:\n",
    "      words = [word for word in line.split(',') if word] #remove empty\n",
    "      for word in words:\n",
    "         syns.append( word.strip() )\n",
    "   \n",
    "   last_syn = syns.pop(-1)\n",
    "   syns.append( last_syn[:-1] ) #remove punctation at the end.\n",
    "\n",
    "   syns = [syn_word for syn_word in syns.copy() if ' ' not in syn_word  ] #remove compound word synonyms\n",
    "\n",
    "   return (head,syns)\n"
   ]
  },
  {
   "cell_type": "code",
   "execution_count": 100,
   "metadata": {},
   "outputs": [],
   "source": [
    "partI_range = (453,22058)\n",
    "\n",
    "syn_pairs = dict()\n",
    "nline = partI_range[0]\n",
    "\n",
    "while nline < partI_range[1]:\n",
    "    nline, entry = extract_next_entry(lines, nline, partI_range[1])\n",
    "    if not entry:\n",
    "        break\n",
    "    head, syns = get_synonyms(entry)\n",
    "    syn_pairs[head] = syns"
   ]
  },
  {
   "cell_type": "code",
   "execution_count": 108,
   "metadata": {},
   "outputs": [],
   "source": [
    "import pickle\n",
    "\n",
    "with open('./fernald_syn_pairs.pickle','wb') as f:\n",
    "    pickle.dump(syn_pairs, f)"
   ]
  }
 ],
 "metadata": {
  "kernelspec": {
   "display_name": "Python 3.7.13 ('work')",
   "language": "python",
   "name": "python3"
  },
  "language_info": {
   "codemirror_mode": {
    "name": "ipython",
    "version": 3
   },
   "file_extension": ".py",
   "mimetype": "text/x-python",
   "name": "python",
   "nbconvert_exporter": "python",
   "pygments_lexer": "ipython3",
   "version": "3.7.13"
  },
  "orig_nbformat": 4,
  "vscode": {
   "interpreter": {
    "hash": "46945a68f7ef2f9befa93722cc3c11ac44011a950ead46153abaecb9d3b69ed9"
   }
  }
 },
 "nbformat": 4,
 "nbformat_minor": 2
}
