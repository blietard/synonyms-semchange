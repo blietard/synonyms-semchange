{
 "cells": [
  {
   "cell_type": "markdown",
   "metadata": {},
   "source": [
    "# Re-arranging matrices"
   ]
  },
  {
   "cell_type": "code",
   "execution_count": 9,
   "metadata": {},
   "outputs": [],
   "source": [
    "import numpy as np \n",
    "import pandas as pd \n",
    "from tqdm import tqdm\n",
    "import pickle\n",
    "import scipy.sparse as sp"
   ]
  },
  {
   "cell_type": "code",
   "execution_count": 2,
   "metadata": {},
   "outputs": [],
   "source": [
    "storage_folder = '/home/bastien/lscd/cooc_matrices_GNgrams/'\n",
    "new_storage_folder = '/home/bastien/lscd/cooc_matrices_GNgrams_V2/'"
   ]
  },
  {
   "cell_type": "code",
   "execution_count": 3,
   "metadata": {},
   "outputs": [],
   "source": [
    "DECADES = list(range(1890,2000,10))\n",
    "POS_TAGS = ['A','N','V']\n",
    "SIDES = ['L','R']"
   ]
  },
  {
   "cell_type": "code",
   "execution_count": 4,
   "metadata": {},
   "outputs": [
    {
     "data": {
      "text/html": [
       "<div>\n",
       "<style scoped>\n",
       "    .dataframe tbody tr th:only-of-type {\n",
       "        vertical-align: middle;\n",
       "    }\n",
       "\n",
       "    .dataframe tbody tr th {\n",
       "        vertical-align: top;\n",
       "    }\n",
       "\n",
       "    .dataframe thead th {\n",
       "        text-align: right;\n",
       "    }\n",
       "</style>\n",
       "<table border=\"1\" class=\"dataframe\">\n",
       "  <thead>\n",
       "    <tr style=\"text-align: right;\">\n",
       "      <th></th>\n",
       "      <th>word</th>\n",
       "      <th>POS</th>\n",
       "      <th>nb_cooc</th>\n",
       "    </tr>\n",
       "    <tr>\n",
       "      <th>ind</th>\n",
       "      <th></th>\n",
       "      <th></th>\n",
       "      <th></th>\n",
       "    </tr>\n",
       "  </thead>\n",
       "  <tbody>\n",
       "    <tr>\n",
       "      <th>5</th>\n",
       "      <td>aa</td>\n",
       "      <td>N</td>\n",
       "      <td>3454</td>\n",
       "    </tr>\n",
       "    <tr>\n",
       "      <th>6</th>\n",
       "      <td>ab</td>\n",
       "      <td>N</td>\n",
       "      <td>2866</td>\n",
       "    </tr>\n",
       "    <tr>\n",
       "      <th>7</th>\n",
       "      <td>abalone</td>\n",
       "      <td>N</td>\n",
       "      <td>480</td>\n",
       "    </tr>\n",
       "    <tr>\n",
       "      <th>8</th>\n",
       "      <td>abandon</td>\n",
       "      <td>V</td>\n",
       "      <td>417</td>\n",
       "    </tr>\n",
       "    <tr>\n",
       "      <th>9</th>\n",
       "      <td>abandoned</td>\n",
       "      <td>V</td>\n",
       "      <td>959</td>\n",
       "    </tr>\n",
       "    <tr>\n",
       "      <th>...</th>\n",
       "      <td>...</td>\n",
       "      <td>...</td>\n",
       "      <td>...</td>\n",
       "    </tr>\n",
       "    <tr>\n",
       "      <th>38569</th>\n",
       "      <td>zoologist</td>\n",
       "      <td>N</td>\n",
       "      <td>453</td>\n",
       "    </tr>\n",
       "    <tr>\n",
       "      <th>38570</th>\n",
       "      <td>zoologists</td>\n",
       "      <td>N</td>\n",
       "      <td>480</td>\n",
       "    </tr>\n",
       "    <tr>\n",
       "      <th>38571</th>\n",
       "      <td>zoology</td>\n",
       "      <td>N</td>\n",
       "      <td>711</td>\n",
       "    </tr>\n",
       "    <tr>\n",
       "      <th>38572</th>\n",
       "      <td>zulu</td>\n",
       "      <td>A</td>\n",
       "      <td>249</td>\n",
       "    </tr>\n",
       "    <tr>\n",
       "      <th>38573</th>\n",
       "      <td>zulus</td>\n",
       "      <td>N</td>\n",
       "      <td>148</td>\n",
       "    </tr>\n",
       "  </tbody>\n",
       "</table>\n",
       "<p>35482 rows × 3 columns</p>\n",
       "</div>"
      ],
      "text/plain": [
       "             word POS  nb_cooc\n",
       "ind                           \n",
       "5              aa   N     3454\n",
       "6              ab   N     2866\n",
       "7         abalone   N      480\n",
       "8         abandon   V      417\n",
       "9       abandoned   V      959\n",
       "...           ...  ..      ...\n",
       "38569   zoologist   N      453\n",
       "38570  zoologists   N      480\n",
       "38571     zoology   N      711\n",
       "38572        zulu   A      249\n",
       "38573       zulus   N      148\n",
       "\n",
       "[35482 rows x 3 columns]"
      ]
     },
     "execution_count": 4,
     "metadata": {},
     "output_type": "execute_result"
    }
   ],
   "source": [
    "final_targets_df = pd.read_csv('targets_list.csv',delimiter='\\t',index_col='ind')\n",
    "final_targets_df"
   ]
  },
  {
   "cell_type": "code",
   "execution_count": 5,
   "metadata": {},
   "outputs": [],
   "source": [
    "pos_groups = final_targets_df.groupby('POS')\n",
    "nouns_ind = pos_groups.get_group( 'N' ).index\n",
    "adjs_ind = pos_groups.get_group( 'A' ).index\n",
    "verbs_ind = pos_groups.get_group( 'V' ).index\n",
    "inds = { 'N': nouns_ind, 'A': adjs_ind, 'V':verbs_ind }"
   ]
  },
  {
   "cell_type": "code",
   "execution_count": 11,
   "metadata": {},
   "outputs": [],
   "source": [
    "nouns = pos_groups.get_group( 'N' )['word']\n",
    "adjs = pos_groups.get_group( 'A' )['word']\n",
    "verbs = pos_groups.get_group( 'V' )['word']\n",
    "\n",
    "with open('./nouns_list.pickle','wb') as f:\n",
    "    pickle.dump(obj=nouns.to_list(), file=f)\n",
    "with open('./adjs_list.pickle','wb') as f:\n",
    "    pickle.dump(obj=adjs.to_list(), file=f)\n",
    "with open('./verbs_list.pickle','wb') as f:\n",
    "    pickle.dump(obj=verbs.to_list(), file=f)"
   ]
  },
  {
   "cell_type": "code",
   "execution_count": 28,
   "metadata": {},
   "outputs": [
    {
     "name": "stderr",
     "output_type": "stream",
     "text": [
      "Rearranging : 100%|██████████| 11/11 [05:22<00:00, 29.35s/it]\n"
     ]
    }
   ],
   "source": [
    "for decade in tqdm(DECADES,desc='Rearranging '):\n",
    "    for pos in POS_TAGS:\n",
    "        matrix = sp.load_npz(storage_folder+f'cooc-matrix_{decade}_{pos}_L.npz')[ inds[pos] , : ]\n",
    "        sp.save_npz(matrix=matrix,file=new_storage_folder+f'cooc-matrix_{decade}_{pos}_L.npz')\n",
    "        matrix = sp.load_npz(storage_folder+f'cooc-matrix_{decade}_{pos}_R.npz')[ inds[pos] , : ]\n",
    "        sp.save_npz(matrix=matrix,file=new_storage_folder+f'cooc-matrix_{decade}_{pos}_R.npz')"
   ]
  },
  {
   "cell_type": "markdown",
   "metadata": {},
   "source": [
    "# Checking for no empty line"
   ]
  },
  {
   "cell_type": "code",
   "execution_count": 31,
   "metadata": {},
   "outputs": [
    {
     "name": "stderr",
     "output_type": "stream",
     "text": [
      "Aggregating A: 100%|██████████| 11/11 [00:04<00:00,  2.47it/s]\n",
      "Aggregating N: 100%|██████████| 11/11 [00:26<00:00,  2.42s/it]\n",
      "Aggregating V: 100%|██████████| 11/11 [00:04<00:00,  2.64it/s]\n"
     ]
    }
   ],
   "source": [
    "aggreg_A_matrix = sp.csr_array( (len(adjs_ind),5000) )\n",
    "aggreg_N_matrix = sp.csr_array( (len(nouns_ind),5000) )\n",
    "aggreg_V_matrix = sp.csr_array( (len(verbs_ind),5000) )\n",
    "\n",
    "\n",
    "for decade in tqdm(DECADES,desc='Aggregating A'):\n",
    "    matrix = sp.load_npz(new_storage_folder+f'cooc-matrix_{decade}_A_L.npz')\n",
    "    aggreg_A_matrix += matrix\n",
    "    matrix = sp.load_npz(new_storage_folder+f'cooc-matrix_{decade}_A_R.npz')\n",
    "    aggreg_A_matrix += matrix\n",
    "        \n",
    "for decade in tqdm(DECADES,desc='Aggregating N'):\n",
    "    matrix = sp.load_npz(new_storage_folder+f'cooc-matrix_{decade}_N_L.npz')\n",
    "    aggreg_N_matrix += matrix\n",
    "    matrix = sp.load_npz(new_storage_folder+f'cooc-matrix_{decade}_N_R.npz')\n",
    "    aggreg_N_matrix += matrix\n",
    "        \n",
    "for decade in tqdm(DECADES,desc='Aggregating V'):\n",
    "    matrix = sp.load_npz(new_storage_folder+f'cooc-matrix_{decade}_V_L.npz')\n",
    "    aggreg_V_matrix += matrix\n",
    "    matrix = sp.load_npz(new_storage_folder+f'cooc-matrix_{decade}_V_R.npz')\n",
    "    aggreg_V_matrix += matrix\n",
    "        \n"
   ]
  },
  {
   "cell_type": "code",
   "execution_count": 34,
   "metadata": {},
   "outputs": [
    {
     "name": "stdout",
     "output_type": "stream",
     "text": [
      "A : 6475 6475 0\n",
      "N : 20650 20650 0\n",
      "V : 8357 8357 0\n",
      "35482\n"
     ]
    }
   ],
   "source": [
    "nzA = np.sum(aggreg_A_matrix.sum(axis=1)>0)\n",
    "nzN = np.sum(aggreg_N_matrix.sum(axis=1)>0)\n",
    "nzV = np.sum(aggreg_V_matrix.sum(axis=1)>0)\n",
    "print('A :', len(adjs_ind), nzA, len(adjs_ind)-nzA)\n",
    "print('N :', len(nouns_ind), nzN, len(nouns_ind) - nzN)\n",
    "print('V :', len(verbs_ind), nzV, len(verbs_ind) - nzV)\n",
    "print(nzA + nzN + nzV)"
   ]
  },
  {
   "cell_type": "code",
   "execution_count": null,
   "metadata": {},
   "outputs": [],
   "source": []
  },
  {
   "cell_type": "code",
   "execution_count": null,
   "metadata": {},
   "outputs": [],
   "source": []
  }
 ],
 "metadata": {
  "kernelspec": {
   "display_name": "Python 3.9.12 ('synonyms')",
   "language": "python",
   "name": "python3"
  },
  "language_info": {
   "codemirror_mode": {
    "name": "ipython",
    "version": 3
   },
   "file_extension": ".py",
   "mimetype": "text/x-python",
   "name": "python",
   "nbconvert_exporter": "python",
   "pygments_lexer": "ipython3",
   "version": "3.9.12"
  },
  "orig_nbformat": 4,
  "vscode": {
   "interpreter": {
    "hash": "8cb931acade56343797ccf210d455f95f082cbfd7f4cc82030e6c7788404105f"
   }
  }
 },
 "nbformat": 4,
 "nbformat_minor": 2
}
