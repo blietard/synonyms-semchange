{
 "cells": [
  {
   "cell_type": "markdown",
   "metadata": {},
   "source": [
    "# Selection of synonymous pairs"
   ]
  },
  {
   "cell_type": "code",
   "execution_count": 12,
   "metadata": {},
   "outputs": [],
   "source": [
    "import pickle\n",
    "from tqdm import tqdm\n",
    "import os\n",
    "\n",
    "import scipy.sparse as sp\n",
    "import numpy as np\n",
    "import pandas as pd"
   ]
  },
  {
   "cell_type": "code",
   "execution_count": 13,
   "metadata": {},
   "outputs": [],
   "source": [
    "pos = 'A'\n",
    "suffix = 'doubNorm_cosine/'\n",
    "SEMCHANGE_FOLDER = './semantic_change_measures/'+suffix\n",
    "\n",
    "DECADES = list(range(1890,2000,10))\n",
    "\n",
    "if pos.lower() in ['a','adj','adjective']:\n",
    "    pos = 'A'\n",
    "    with open('./words/adjs_list.pickle','rb') as f:\n",
    "        word_list = pickle.load(f)\n",
    "elif pos.lower() in ['n','noun']:\n",
    "    pos = 'N'\n",
    "    with open('./words/nouns_list.pickle','rb') as f:\n",
    "        word_list = pickle.load(f)\n",
    "elif pos.lower() in ['v','verb']:\n",
    "    pos = 'V'\n",
    "    with open('./words/verbs_list.pickle','rb') as f:\n",
    "        word_list = pickle.load(f)\n",
    "else:\n",
    "    raise ValueError('Invalid POS tag value : ' + pos)\n",
    "\n",
    "word2ind = {word : i for i,word in enumerate(word_list)}\n",
    "with open('./words/fernald_synonyms.pickle','rb') as f:\n",
    "    syns_dict = pickle.load(f)[pos]\n",
    "semchanges = pd.read_csv(SEMCHANGE_FOLDER+pos+'.csv',sep='\\t',index_col='words')"
   ]
  },
  {
   "cell_type": "markdown",
   "metadata": {},
   "source": [
    "## Original Criterion : both words changed"
   ]
  },
  {
   "cell_type": "code",
   "execution_count": 20,
   "metadata": {},
   "outputs": [],
   "source": [
    "target_changes = semchanges['1990']\n",
    "threshold = target_changes.mean()\n",
    "syns_pairs = []\n",
    "for head, syns in syns_dict.items():\n",
    "    if target_changes[head] >= threshold:\n",
    "        for syn in syns:\n",
    "            if target_changes[syn] >= threshold:\n",
    "                syns_pairs.append( (head,syn) )"
   ]
  },
  {
   "cell_type": "code",
   "execution_count": 9,
   "metadata": {},
   "outputs": [],
   "source": [
    "# with open(f'./words/fernald_syn_pairs_{pos}.pickle','wb') as f:\n",
    "#     pickle.dump(file=f,obj=syns_pairs)"
   ]
  },
  {
   "cell_type": "code",
   "execution_count": 21,
   "metadata": {},
   "outputs": [
    {
     "data": {
      "text/plain": [
       "271"
      ]
     },
     "execution_count": 21,
     "metadata": {},
     "output_type": "execute_result"
    }
   ],
   "source": [
    "len(syns_pairs)"
   ]
  },
  {
   "cell_type": "code",
   "execution_count": 22,
   "metadata": {},
   "outputs": [
    {
     "data": {
      "text/plain": [
       "143"
      ]
     },
     "execution_count": 22,
     "metadata": {},
     "output_type": "execute_result"
    }
   ],
   "source": [
    "len(syns_dict)"
   ]
  },
  {
   "cell_type": "code",
   "execution_count": 23,
   "metadata": {},
   "outputs": [
    {
     "data": {
      "text/plain": [
       "1450"
      ]
     },
     "execution_count": 23,
     "metadata": {},
     "output_type": "execute_result"
    }
   ],
   "source": [
    "sum([len(syns) for syns in syns_dict.values()])"
   ]
  },
  {
   "cell_type": "code",
   "execution_count": 24,
   "metadata": {},
   "outputs": [
    {
     "data": {
      "text/plain": [
       "6475"
      ]
     },
     "execution_count": 24,
     "metadata": {},
     "output_type": "execute_result"
    }
   ],
   "source": [
    "len(target_changes)"
   ]
  },
  {
   "cell_type": "markdown",
   "metadata": {},
   "source": [
    "## New Criterion : at least one changed"
   ]
  },
  {
   "cell_type": "code",
   "execution_count": 14,
   "metadata": {},
   "outputs": [],
   "source": [
    "target_changes = semchanges['1990']\n",
    "threshold = target_changes.mean() #+ target_changes.std()\n",
    "syns_pairs = []\n",
    "for head, syns in syns_dict.items():\n",
    "    for syn in syns:\n",
    "        if target_changes[syn] >= threshold or target_changes[head] >= threshold:\n",
    "            syns_pairs.append( (head,syn) )"
   ]
  },
  {
   "cell_type": "code",
   "execution_count": 15,
   "metadata": {},
   "outputs": [
    {
     "data": {
      "text/plain": [
       "1096"
      ]
     },
     "execution_count": 15,
     "metadata": {},
     "output_type": "execute_result"
    }
   ],
   "source": [
    "len(syns_pairs)"
   ]
  },
  {
   "cell_type": "code",
   "execution_count": 18,
   "metadata": {},
   "outputs": [],
   "source": [
    "with open(f'./words/synonym_pairs/{suffix}/fernald_syn_pairs_{pos}_NEWCRIT.pickle','wb') as f:\n",
    "    pickle.dump(file=f,obj=syns_pairs)"
   ]
  },
  {
   "cell_type": "code",
   "execution_count": null,
   "metadata": {},
   "outputs": [],
   "source": []
  }
 ],
 "metadata": {
  "kernelspec": {
   "display_name": "Python 3.9.12 ('synonyms')",
   "language": "python",
   "name": "python3"
  },
  "language_info": {
   "codemirror_mode": {
    "name": "ipython",
    "version": 3
   },
   "file_extension": ".py",
   "mimetype": "text/x-python",
   "name": "python",
   "nbconvert_exporter": "python",
   "pygments_lexer": "ipython3",
   "version": "3.9.12"
  },
  "orig_nbformat": 4,
  "vscode": {
   "interpreter": {
    "hash": "8cb931acade56343797ccf210d455f95f082cbfd7f4cc82030e6c7788404105f"
   }
  }
 },
 "nbformat": 4,
 "nbformat_minor": 2
}
